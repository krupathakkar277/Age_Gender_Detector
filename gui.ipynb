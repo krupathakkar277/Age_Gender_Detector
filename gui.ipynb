{
 "cells": [
  {
   "cell_type": "code",
   "execution_count": 7,
   "id": "6bf86f74",
   "metadata": {},
   "outputs": [
    {
     "name": "stdout",
     "output_type": "stream",
     "text": [
      "(48, 48, 3)\n",
      "\u001b[1m1/1\u001b[0m \u001b[32m━━━━━━━━━━━━━━━━━━━━\u001b[0m\u001b[37m\u001b[0m \u001b[1m0s\u001b[0m 372ms/step\n",
      "Predicted Age is 46\n",
      "Predicted Gender is Male\n"
     ]
    },
    {
     "name": "stderr",
     "output_type": "stream",
     "text": [
      "C:\\Users\\Krupali\\AppData\\Local\\Temp\\ipykernel_6740\\193333524.py:36: DeprecationWarning: Conversion of an array with ndim > 0 to a scalar is deprecated, and will error in future. Ensure you extract a single element from your array before performing this operation. (Deprecated NumPy 1.25.)\n",
      "  age=int(np.round(pred[1][0]))\n",
      "C:\\Users\\Krupali\\AppData\\Local\\Temp\\ipykernel_6740\\193333524.py:37: DeprecationWarning: Conversion of an array with ndim > 0 to a scalar is deprecated, and will error in future. Ensure you extract a single element from your array before performing this operation. (Deprecated NumPy 1.25.)\n",
      "  sex=int(np.round(pred[0][0]))\n"
     ]
    },
    {
     "name": "stdout",
     "output_type": "stream",
     "text": [
      "(48, 48, 3)\n",
      "\u001b[1m1/1\u001b[0m \u001b[32m━━━━━━━━━━━━━━━━━━━━\u001b[0m\u001b[37m\u001b[0m \u001b[1m0s\u001b[0m 24ms/step\n",
      "Predicted Age is 46\n",
      "Predicted Gender is Male\n",
      "(48, 48, 3)\n",
      "\u001b[1m1/1\u001b[0m \u001b[32m━━━━━━━━━━━━━━━━━━━━\u001b[0m\u001b[37m\u001b[0m \u001b[1m0s\u001b[0m 23ms/step\n",
      "Predicted Age is 27\n",
      "Predicted Gender is Female\n"
     ]
    }
   ],
   "source": [
    "# importing necessary libraries\n",
    "import tkinter as tk\n",
    "from tkinter import filedialog\n",
    "from tkinter import *\n",
    "from PIL import Image,ImageTk\n",
    "import numpy\n",
    "import numpy as np\n",
    "\n",
    "from keras.models import load_model\n",
    "model=load_model('Age_Sex_Detection.keras')\n",
    "\n",
    "#Initializing the GUI\n",
    "top=tk.Tk()\n",
    "top.geometry('800x600')\n",
    "top.title('Age & Gender Detactor')\n",
    "top.configure(background='#CDCDCD')\n",
    "\n",
    "# Initializing the labels (1 for age and 1 for Sex)\n",
    "label1=Label(top,background='#CDCDCD',font=('arial',15,\"bold\"))\n",
    "label2=Label(top,background='#CDCDCD',font=('arial',15,\"bold\"))\n",
    "sign_image=Label(top)\n",
    "\n",
    "#Defining deltect function which detect the age and gender of the person in image using the model\n",
    "def detect(file_path):\n",
    "    global label_packed\n",
    "    image=Image.open(file_path)\n",
    "    image=image.resize((48,48))\n",
    "    image=numpy.expand_dims(image,axis=0)\n",
    "    image=np.array(image)\n",
    "    image=np.delete(image,0,1)\n",
    "    image=np.resize(image,(48,48,3))\n",
    "    print(image.shape)\n",
    "    sex_f=['Male','Female']\n",
    "    image=np.array([image])/255\n",
    "    pred=model.predict(image)\n",
    "    age=int(np.round(pred[1][0]))\n",
    "    sex=int(np.round(pred[0][0]))\n",
    "    print('Predicted Age is '+ str(age))\n",
    "    print('Predicted Gender is '+ sex_f[sex])\n",
    "    label1.configure(foreground='#011638',text=age)\n",
    "    label2.configure(foreground='#011638',text=sex_f[sex])\n",
    "\n",
    "\n",
    "\n",
    "# Defining Show detect button function \n",
    "def show_detact_button(file_path):\n",
    "    detect_b=Button(top,text='Detact Image',command=lambda: detect(file_path),padx=10,pady=5)\n",
    "    detect_b.configure(background='#364156',foreground='white',font=('arial',10,'bold'))\n",
    "    detect_b.place(relx=0.79,rely=0.46)\n",
    "\n",
    "\n",
    "# Defining Upload Image Function \n",
    "def upload_image():\n",
    "    try:\n",
    "        file_path=filedialog.askopenfilename()\n",
    "        uploaded=Image.open(file_path)\n",
    "        uploaded.thumbnail(((top.winfo_width()/2.25),(top.winfo_height()/2.25)))\n",
    "        im=ImageTk.PhotoImage(uploaded)\n",
    "\n",
    "        sign_image.configure(image=im)\n",
    "        sign_image.image=im\n",
    "        label1.configure(text='')\n",
    "        label2.configure(text='')\n",
    "        show_detact_button(file_path)\n",
    "    except:\n",
    "        pass\n",
    "\n",
    "upload=Button(top,text='Upload an Image',command=upload_image,padx=10,pady=5)\n",
    "upload.configure(background='#364156',foreground='white',font=('arial',10,'bold'))\n",
    "upload.pack(side='bottom',pady=50)\n",
    "sign_image.pack(side='bottom',expand=True)\n",
    "\n",
    "label1.pack(side='bottom',expand=True)\n",
    "label2.pack(side='bottom',expand=True)\n",
    "heading=Label(top,text='Age and Gender Detector',pady=20,font=('arial',20,'bold'))\n",
    "heading.configure(background='#CDCDCD',foreground='#364156')\n",
    "\n",
    "heading.pack()\n",
    "top.mainloop()\n"
   ]
  },
  {
   "cell_type": "code",
   "execution_count": 2,
   "id": "981946b1",
   "metadata": {},
   "outputs": [
    {
     "name": "stdout",
     "output_type": "stream",
     "text": [
      "hello\n"
     ]
    }
   ],
   "source": [
    "print('hello')"
   ]
  },
  {
   "cell_type": "code",
   "execution_count": null,
   "id": "d1d5c637",
   "metadata": {},
   "outputs": [],
   "source": []
  }
 ],
 "metadata": {
  "kernelspec": {
   "display_name": "Python 3 (ipykernel)",
   "language": "python",
   "name": "python3"
  },
  "language_info": {
   "codemirror_mode": {
    "name": "ipython",
    "version": 3
   },
   "file_extension": ".py",
   "mimetype": "text/x-python",
   "name": "python",
   "nbconvert_exporter": "python",
   "pygments_lexer": "ipython3",
   "version": "3.11.7"
  }
 },
 "nbformat": 4,
 "nbformat_minor": 5
}
